{
 "cells": [
  {
   "cell_type": "markdown",
   "id": "naughty-methodology",
   "metadata": {},
   "source": [
    "# GI2021_DZ2"
   ]
  },
  {
   "cell_type": "markdown",
   "id": "composite-accountability",
   "metadata": {},
   "source": [
    "Create an AlignmentFile object for “merged-tumor.bam” from Public files gallery\n",
    "\n",
    "Take the first read from the AlignmentFile\n",
    "\n",
    "Inspect the fields in the AlignedSegment\n",
    "\n",
    "Inspect the flag field\n",
    "\n",
    "Check out the flag for some reads: https://broadinstitute.github.io/picard/explain-flags.html\n",
    "\n",
    "Calculate:\n",
    "\n",
    "- How many unmapped reads are in the file?\n",
    "\n",
    "- Total number of reads\n",
    "\n",
    "- Number of reads with mapping quality 0\n",
    "\n",
    "- Average mapping quality for all the reads\n",
    "\n",
    "- Average mapping quality if reads with 0 mapp quality are filtered out"
   ]
  },
  {
   "cell_type": "markdown",
   "id": "prepared-superintendent",
   "metadata": {},
   "source": [
    "First, we import `pysam` library, so we could use its `AlignmentFile` function to read `.bam` file."
   ]
  },
  {
   "cell_type": "code",
   "execution_count": 1,
   "id": "native-extreme",
   "metadata": {},
   "outputs": [],
   "source": [
    "import pysam\n",
    "\n",
    "file = pysam.AlignmentFile('merged-tumor.bam')"
   ]
  },
  {
   "cell_type": "markdown",
   "id": "theoretical-mechanism",
   "metadata": {},
   "source": [
    "Here, we create `getFirst` function in order to grab first entry from the file we read. In it we call `reset` method to reset file position to beginning of file."
   ]
  },
  {
   "cell_type": "code",
   "execution_count": 11,
   "id": "earlier-sword",
   "metadata": {},
   "outputs": [],
   "source": [
    "def getFirst(collection):\n",
    "    for x in collection:\n",
    "        collection.reset()\n",
    "        return x\n",
    "\n",
    "firstRead = getFirst(file)"
   ]
  },
  {
   "cell_type": "markdown",
   "id": "comprehensive-committee",
   "metadata": {},
   "source": [
    "With that, we can access data in the entry."
   ]
  },
  {
   "cell_type": "code",
   "execution_count": 12,
   "id": "exempt-petersburg",
   "metadata": {},
   "outputs": [
    {
     "name": "stdout",
     "output_type": "stream",
     "text": [
      "name: C0HVYACXX120402:7:1207:5722:57044\n",
      "flag: 1187\n",
      "ref_name: 21\n",
      "ref_pos: 9483249\n",
      "map_quality: 27\n",
      "cigar: 76M\n",
      "next_ref_name: =\n",
      "next_ref_pos: 9483382\n",
      "length: 209\n",
      "seq: TTTTCAAACAGTATCTATGCCTGCCAAATGTGAACATATAAAAAAAAACCAGAATGTGCCATTCTGATTTAAACTG\n",
      "qual: ==<>@?@@>@D?>@C?>8JA5?>CC>?@???BB;H-:4A?D=DB8BDE?GBJCD@B8??E<A>CDJB@B>AA@@@C\n",
      "tags: ['XA:Z:GL000217.1,-110754,76M,1;', 'BD:Z:NNNNNNNNNNNNNNNNNNNNNNNNNNNNNNNNNNNNNNNNNNNNNNNNNNNNNNNNNNNNNNNNNNNNNNNNNNNN', 'MD:Z:76', 'RG:Z:1', 'BI:Z:NNNNNNNNNNNNNNNNNNNNNNNNNNNNNNNNNNNNNNNNNNNNNNNNNNNNNNNNNNNNNNNNNNNNNNNNNNNN', 'NM:i:0', 'MQ:i:27', 'AS:i:76', 'XS:i:71']\n"
     ]
    }
   ],
   "source": [
    "dictionary = firstRead.to_dict()\n",
    "for key in dictionary:\n",
    "    print(f\"{key}: {dictionary[key]}\")"
   ]
  },
  {
   "cell_type": "markdown",
   "id": "distant-prescription",
   "metadata": {},
   "source": [
    "##### Calculate:"
   ]
  },
  {
   "cell_type": "markdown",
   "id": "greenhouse-cattle",
   "metadata": {},
   "source": [
    "How many unmapped reads are in the file?\n",
    "\n",
    "This information can be found in flag field, which is an int that carries information about some properties of segment by having each property tied to a particulat bit:\n",
    "\n",
    "0. read paired\n",
    "1. read mapped in proper pair\n",
    "2. read unmapped\n",
    "3. mate unmapped\n",
    "4. read reverse strand\n",
    "5. mate reverse strand\n",
    "6. first in pair\n",
    "7. second in pair\n",
    "8. not primary alignment\n",
    "9. read fails platform/vendor quality checks\n",
    "10. read is PCR or optical duplicate\n",
    "11. supplementary alignment\n",
    "\n",
    "So, in order to count unmapped reads, we need to look for the ones who have a set bit on position 2. After iteration, we also have to call `reset` method again."
   ]
  },
  {
   "cell_type": "code",
   "execution_count": 20,
   "id": "exempt-withdrawal",
   "metadata": {},
   "outputs": [
    {
     "name": "stdout",
     "output_type": "stream",
     "text": [
      "Number of unmapped reads: 17765\n"
     ]
    }
   ],
   "source": [
    "unmappedReadFlag = 0b100\n",
    "unmappedReadCount = 0\n",
    "\n",
    "for read in file:\n",
    "    if read.flag & unmappedReadFlag:\n",
    "        unmappedReadCount += 1\n",
    "\n",
    "file.reset()\n",
    "\n",
    "print(f\"Number of unmapped reads: {unmappedReadCount}\")"
   ]
  },
  {
   "cell_type": "markdown",
   "id": "handmade-custody",
   "metadata": {},
   "source": [
    "Total number of reads\n",
    "\n",
    "For this we just need to go trough the file and count the iterations."
   ]
  },
  {
   "cell_type": "code",
   "execution_count": 24,
   "id": "armed-ethnic",
   "metadata": {},
   "outputs": [
    {
     "name": "stdout",
     "output_type": "stream",
     "text": [
      "Total number of reads: 2921629\n"
     ]
    }
   ],
   "source": [
    "totalReads = 0\n",
    "\n",
    "for read in file:\n",
    "    totalReads += 1\n",
    "\n",
    "file.reset()\n",
    "\n",
    "print(f\"Total number of reads: {totalReads}\")"
   ]
  },
  {
   "cell_type": "markdown",
   "id": "removable-nirvana",
   "metadata": {},
   "source": [
    "Number of reads with mapping quality 0\n",
    "\n",
    "Information about mapping quality can be found in `mapq` member"
   ]
  },
  {
   "cell_type": "code",
   "execution_count": 22,
   "id": "unsigned-daniel",
   "metadata": {},
   "outputs": [
    {
     "name": "stdout",
     "output_type": "stream",
     "text": [
      "Reads with mapping quality 0: 126628\n"
     ]
    }
   ],
   "source": [
    "mapQ0Reads = 0\n",
    "\n",
    "for read in file:\n",
    "    if read.mapq == 0:\n",
    "        mapQ0Reads += 1\n",
    "\n",
    "file.reset()\n",
    "\n",
    "print(f\"Reads with mapping quality 0: {mapQ0Reads}\")"
   ]
  },
  {
   "cell_type": "markdown",
   "id": "remarkable-packing",
   "metadata": {},
   "source": [
    "Average mapping quality for all the reads\n",
    "\n",
    "We get this by summing mapping qualities of all reads and dividing them with total number of reads which we allready have (`totalReads`)."
   ]
  },
  {
   "cell_type": "code",
   "execution_count": 25,
   "id": "warming-martin",
   "metadata": {},
   "outputs": [
    {
     "name": "stdout",
     "output_type": "stream",
     "text": [
      "Average mapping quality: 55.91379158681681\n"
     ]
    }
   ],
   "source": [
    "totalMapQ = 0\n",
    "\n",
    "for read in file:\n",
    "    totalMapQ += read.mapq\n",
    "\n",
    "file.reset()\n",
    "\n",
    "print(f\"Average mapping quality: {totalMapQ / totalReads}\")"
   ]
  },
  {
   "cell_type": "markdown",
   "id": "typical-fault",
   "metadata": {},
   "source": [
    "Average mapping quality if reads with 0 map quality are filtered out\n",
    "\n",
    "For this, we divide sum of mapping qualities (`totalMapQ`) with difference between number of all reads (`totalReads`) and number of reads with mapping quality 0 (`mapQ0Reads`)."
   ]
  },
  {
   "cell_type": "code",
   "execution_count": 26,
   "id": "mobile-thomson",
   "metadata": {},
   "outputs": [
    {
     "name": "stdout",
     "output_type": "stream",
     "text": [
      "Average mapping quality without reads with 0 map quality: 58.446975510921106\n"
     ]
    }
   ],
   "source": [
    "print(f\"Average mapping quality without reads with 0 map quality: {totalMapQ / (totalReads - mapQ0Reads)}\")"
   ]
  }
 ],
 "metadata": {
  "kernelspec": {
   "display_name": "Python 3",
   "language": "python",
   "name": "python3"
  },
  "language_info": {
   "codemirror_mode": {
    "name": "ipython",
    "version": 3
   },
   "file_extension": ".py",
   "mimetype": "text/x-python",
   "name": "python",
   "nbconvert_exporter": "python",
   "pygments_lexer": "ipython3",
   "version": "3.8.5"
  }
 },
 "nbformat": 4,
 "nbformat_minor": 5
}
